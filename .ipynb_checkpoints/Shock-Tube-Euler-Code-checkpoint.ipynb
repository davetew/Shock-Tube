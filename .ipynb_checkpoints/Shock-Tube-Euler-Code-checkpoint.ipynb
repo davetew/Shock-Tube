{
 "cells": [
  {
   "cell_type": "markdown",
   "metadata": {
    "nbpresent": {
     "id": "2e183e5c-3964-43fc-bcbf-98d4539f9ec5"
    }
   },
   "source": [
    "# Shock Tube: Unsteady Euler Simulation\n",
    "This workbook contains a one-dimensional inviscid model of a shock tube.  These tubes initially consist of two sections: a high pressure driver section and a low pressure driven section.\n",
    "\n"
   ]
  },
  {
   "cell_type": "code",
   "execution_count": 7,
   "metadata": {
    "collapsed": true,
    "nbpresent": {
     "id": "ced0fe7b-dc06-44ae-b99d-9aea8c1a13dd"
    }
   },
   "outputs": [],
   "source": [
    "\"\"\"Import Python modules used in simulation\"\"\"\n",
    "import numpy as np\n",
    "\n",
    "import matplotlib.pyplot as plt\n",
    "%matplotlib inline"
   ]
  },
  {
   "cell_type": "markdown",
   "metadata": {
    "collapsed": true,
    "nbpresent": {
     "id": "8e831212-3f69-4014-8aa1-cccdd596a89c"
    }
   },
   "source": [
    "\"\"\"Define the state vector class\"\"\"\n",
    "\n",
    "class State:\n",
    "    \"\"\"The State class is used to store the state (and composition) vector at a single grid cell: \n",
    "        1. ρ: Density (dimensionless)\n",
    "        2. u: Velocity (dimensionless)\n",
    "        3. Et: Total Energy (dimensionless)\n",
    "        4. γ: Ratio of specific heats (dimensionless)\n",
    "        \"\"\"\n",
    "    def __init__(self, ρ=None, u=None, Et=None, ga=None):        \n",
    "        self.ρ = ρ    # Dimensionless Density\n",
    "        self.u = u    # Dimensionless Velocity\n",
    "        self.Et = Et  # Dimensionless Total Energy\n",
    "        self.γ = γ    # Ratio of specific heats (private)\n",
    "        \n",
    "    @property\n",
    "    def a(self):\n",
    "        \"\"\"a: Speed of sound (dimensionless)\"\"\"\n",
    "        return np.sqrt( self.γ*(self.γ-1) * (self.Et/self.ρ - self.u**2/2) )\n",
    "        \n",
    "    @property\n",
    "    def p(self):\n",
    "        \"\"\"p: Static pressure (dimensionless)\"\"\"\n",
    "        return self.ρ*self.a**2/self.γ;"
   ]
  },
  {
   "cell_type": "code",
   "execution_count": 17,
   "metadata": {
    "nbpresent": {
     "id": "17f06cca-4ed8-4044-b1b3-d87f86a91636"
    }
   },
   "outputs": [],
   "source": [
    "\"\"\"Define the grid class\"\"\"\n",
    "\n",
    "class Grid:\n",
    "    \"\"\"The Grid class generat\"\"\"\n",
    "    \n",
    "    def __init__(self, N_points=100, L_driver=1):\n",
    "        \"\"\"Initialize the class by generating a grid with an initial distribution of uniformly \n",
    "            spaced grid points (cell edges).  The two (optional) input parameters are\n",
    "            1. N_points: The number of (cell edge) grid points with a default of 100, and\n",
    "            2. L_driver: The length of the driver section of the tube (dimensionless)\"\"\"\n",
    "        self.N_points = N_points\n",
    "        self.L_driver = L_driver\n",
    "        self.L_tube = 1 + L_driver\n",
    "        self.UniformGrid = np.linspace(0, 1 + L_driver, N_points)\n",
    "        self.ActiveGrid = self.UniformGrid\n",
    "        \n",
    "    def NonUniformGrid(self, Ψorig):\n",
    "        \"\"\"Generate a nonuniform grid whose spacing is determined by gradients in the flow parameter\n",
    "            (e.g. density) provided.\"\"\"\n",
    "    \n",
    "        # Map the flow parameter onto a uniform grid via interpolation\n",
    "        Ψuniform = np.interp(self.UniformGrid, self.ActiveGrid, Ψorig)\n",
    "        \n",
    "        \"\"\"Calculate the absolute value of the change in density across each grid cell but set\n",
    "        a floor that is equal to 1/10 of the difference between the maximum and minimum Ψorig\"\"\"\n",
    "        ΔΨ = np.maximum(np.abs(np.max(Ψorig)-np.min(Ψorig))/10, \n",
    "                        np.abs(np.diff(Ψorig)))\n",
    "        \n",
    "\n",
    "        if np.sum(ΔΨ) == 0:\n",
    "            x_new = self.UniformGrid\n",
    "            \n",
    "        else:\n",
    "            \"\"\"Calculate the new distance between grid points\"\"\"\n",
    "            Δx_new = np.maximum(np.diff(self.ActiveGrid), \n",
    "                               self.L_tube/10/self.N_points) / ΔΨ * np.mean(Ψorig)\n",
    "\n",
    "            # Generate the new grid        \n",
    "            x_new = np.concatenate( (np.zeros(1), np.cumsum(Δx_new)) )\n",
    "            x_new = x_new * self.L_tube / ( x_new[-1] - x_new[0] )\n",
    "        \n",
    "        # Save it to ActiveGrid\n",
    "        return x_new"
   ]
  },
  {
   "cell_type": "code",
   "execution_count": 18,
   "metadata": {
    "nbpresent": {
     "id": "e19ea0bd-5e55-4063-af43-0833ed4deea4"
    }
   },
   "outputs": [
    {
     "data": {
      "text/plain": [
       "<__main__.Grid at 0x10a4ba1d0>"
      ]
     },
     "metadata": {},
     "output_type": "display_data"
    }
   ],
   "source": [
    "x = Grid(100,1)\n",
    "display(x)"
   ]
  },
  {
   "cell_type": "code",
   "execution_count": 19,
   "metadata": {
    "nbpresent": {
     "id": "20b8219d-fa88-4e47-9cc0-b1c6eb16a95d"
    }
   },
   "outputs": [
    {
     "data": {
      "text/plain": [
       "array([ 0.        ,  0.02020202,  0.04040404,  0.06060606,  0.08080808,\n",
       "        0.1010101 ,  0.12121212,  0.14141414,  0.16161616,  0.18181818,\n",
       "        0.2020202 ,  0.22222222,  0.24242424,  0.26262626,  0.28282828,\n",
       "        0.3030303 ,  0.32323232,  0.34343434,  0.36363636,  0.38383838,\n",
       "        0.4040404 ,  0.42424242,  0.44444444,  0.46464646,  0.48484848,\n",
       "        0.50505051,  0.52525253,  0.54545455,  0.56565657,  0.58585859,\n",
       "        0.60606061,  0.62626263,  0.64646465,  0.66666667,  0.68686869,\n",
       "        0.70707071,  0.72727273,  0.74747475,  0.76767677,  0.78787879,\n",
       "        0.80808081,  0.82828283,  0.84848485,  0.86868687,  0.88888889,\n",
       "        0.90909091,  0.92929293,  0.94949495,  0.96969697,  0.98989899,\n",
       "        1.01010101,  1.03030303,  1.05050505,  1.07070707,  1.09090909,\n",
       "        1.11111111,  1.13131313,  1.15151515,  1.17171717,  1.19191919,\n",
       "        1.21212121,  1.23232323,  1.25252525,  1.27272727,  1.29292929,\n",
       "        1.31313131,  1.33333333,  1.35353535,  1.37373737,  1.39393939,\n",
       "        1.41414141,  1.43434343,  1.45454545,  1.47474747,  1.49494949,\n",
       "        1.51515152,  1.53535354,  1.55555556,  1.57575758,  1.5959596 ,\n",
       "        1.61616162,  1.63636364,  1.65656566,  1.67676768,  1.6969697 ,\n",
       "        1.71717172,  1.73737374,  1.75757576,  1.77777778,  1.7979798 ,\n",
       "        1.81818182,  1.83838384,  1.85858586,  1.87878788,  1.8989899 ,\n",
       "        1.91919192,  1.93939394,  1.95959596,  1.97979798,  2.        ])"
      ]
     },
     "metadata": {},
     "output_type": "display_data"
    },
    {
     "name": "stderr",
     "output_type": "stream",
     "text": [
      "/Users/david.tew/anaconda/lib/python3.6/site-packages/ipykernel_launcher.py:31: RuntimeWarning: divide by zero encountered in true_divide\n",
      "/Users/david.tew/anaconda/lib/python3.6/site-packages/ipykernel_launcher.py:35: RuntimeWarning: invalid value encountered in true_divide\n"
     ]
    },
    {
     "data": {
      "text/plain": [
       "array([  0.,  nan,  nan,  nan,  nan,  nan,  nan,  nan,  nan,  nan,  nan,\n",
       "        nan,  nan,  nan,  nan,  nan,  nan,  nan,  nan,  nan,  nan,  nan,\n",
       "        nan,  nan,  nan,  nan,  nan,  nan,  nan,  nan,  nan,  nan,  nan,\n",
       "        nan,  nan,  nan,  nan,  nan,  nan,  nan,  nan,  nan,  nan,  nan,\n",
       "        nan,  nan,  nan,  nan,  nan,  nan,  nan,  nan,  nan,  nan,  nan,\n",
       "        nan,  nan,  nan,  nan,  nan,  nan,  nan,  nan,  nan,  nan,  nan,\n",
       "        nan,  nan,  nan,  nan,  nan,  nan,  nan,  nan,  nan,  nan,  nan,\n",
       "        nan,  nan,  nan,  nan,  nan,  nan,  nan,  nan,  nan,  nan,  nan,\n",
       "        nan,  nan,  nan,  nan,  nan,  nan,  nan,  nan,  nan,  nan,  nan,\n",
       "        nan])"
      ]
     },
     "metadata": {},
     "output_type": "display_data"
    }
   ],
   "source": [
    "display(x.UniformGrid)\n",
    "display(x.NonUniformGrid(np.ones(100)))"
   ]
  },
  {
   "cell_type": "code",
   "execution_count": null,
   "metadata": {
    "collapsed": true,
    "nbpresent": {
     "id": "c05d7a17-0aba-4178-aeae-e7398f5525da"
    }
   },
   "outputs": [],
   "source": []
  }
 ],
 "metadata": {
  "kernelspec": {
   "display_name": "Python [default]",
   "language": "python",
   "name": "python3"
  },
  "language_info": {
   "codemirror_mode": {
    "name": "ipython",
    "version": 3
   },
   "file_extension": ".py",
   "mimetype": "text/x-python",
   "name": "python",
   "nbconvert_exporter": "python",
   "pygments_lexer": "ipython3",
   "version": "3.6.3"
  }
 },
 "nbformat": 4,
 "nbformat_minor": 2
}
